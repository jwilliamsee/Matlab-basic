{
 "cells": [
  {
   "cell_type": "markdown",
   "id": "be08f2e7",
   "metadata": {},
   "source": [
    "# In this notebook there is a litlee intruction for a \"conditional operator\" very basic, this is a course with Simulink-Matlab.\n",
    "\n",
    "### The exercise is: Diseñe un diagrama de bloques condicional que muestre un 10 en la salida si el bloque condicional es mayor a 0 y si es menor que 0, deberá mostrar un 100.\n",
    "\n",
    "#### Solution is easy, there are two forms for to solution this, first form is with dynamic input, with variable input and the second form is a constant input, here shows the first form."
   ]
  },
  {
   "cell_type": "markdown",
   "id": "df94832d",
   "metadata": {},
   "source": []
  }
 ],
 "metadata": {
  "kernelspec": {
   "display_name": "Python 3 (ipykernel)",
   "language": "python",
   "name": "python3"
  },
  "language_info": {
   "codemirror_mode": {
    "name": "ipython",
    "version": 3
   },
   "file_extension": ".py",
   "mimetype": "text/x-python",
   "name": "python",
   "nbconvert_exporter": "python",
   "pygments_lexer": "ipython3",
   "version": "3.9.12"
  }
 },
 "nbformat": 4,
 "nbformat_minor": 5
}
