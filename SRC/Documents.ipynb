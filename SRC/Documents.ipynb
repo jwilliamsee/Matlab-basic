{
 "cells": [
  {
   "cell_type": "markdown",
   "id": "c8d963fe",
   "metadata": {},
   "source": [
    "# In this notebook there is a litlee intruction for a \"conditional operator\" very basic, this is a course with Simulink-Matlab.\n",
    "\n",
    "### The exercise is: Diseñe un diagrama de bloques condicional que muestre un 10 en la salida si el bloque condicional es mayor a 0 y si es menor que 0, deberá mostrar un 100.\n",
    "\n",
    "#### Solution is easy, there are two forms for to solution this, first form is with dynamic input, with variable input and the second form is a constant input, here shows the first form."
   ]
  },
  {
   "cell_type": "markdown",
   "id": "e618cbba",
   "metadata": {},
   "source": [
    "![](https://github.com/jwilliamsee/Matlab-basic/blob/main/imagen/Matlab1.PNG)"
   ]
  },
  {
   "cell_type": "markdown",
   "id": "1131cbd3",
   "metadata": {},
   "source": [
    "![](https://github.com/jwilliamsee/Matlab-basic/blob/main/imagen/Matlab2.PNG)"
   ]
  },
  {
   "cell_type": "markdown",
   "id": "970970f4",
   "metadata": {},
   "source": [
    "    1. Block Repeating sequence\n",
    "    2. Block Gain\n",
    "    3. Two block constant\n",
    "    4. Block Switch\n",
    "    5. Block Display"
   ]
  },
  {
   "cell_type": "markdown",
   "id": "5ee52d1b",
   "metadata": {},
   "source": [
    "## Block **Repeating sequence** connected to Gain, at the same time connected to middle terminal of switch block, output of switch connected to Display, the upper terminal of the Switch connected to the Gain with value 10 and the under terminal of the Switch connected to the Gain with value 100."
   ]
  }
 ],
 "metadata": {
  "kernelspec": {
   "display_name": "Python 3 (ipykernel)",
   "language": "python",
   "name": "python3"
  },
  "language_info": {
   "codemirror_mode": {
    "name": "ipython",
    "version": 3
   },
   "file_extension": ".py",
   "mimetype": "text/x-python",
   "name": "python",
   "nbconvert_exporter": "python",
   "pygments_lexer": "ipython3",
   "version": "3.9.12"
  }
 },
 "nbformat": 4,
 "nbformat_minor": 5
}
